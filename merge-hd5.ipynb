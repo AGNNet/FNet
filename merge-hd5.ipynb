{
 "cells": [
  {
   "cell_type": "code",
   "execution_count": 2,
   "metadata": {
    "ExecuteTime": {
     "end_time": "2020-04-21T23:32:02.862993Z",
     "start_time": "2020-04-21T23:32:01.956927Z"
    }
   },
   "outputs": [],
   "source": [
    "import numpy as np\n",
    "import random\n",
    "\n",
    "import h5py\n",
    "import astropy.io.fits as fits\n",
    "from astropy.table import Table\n",
    "from time import gmtime, strftime\n",
    "\n",
    "\n",
    "import sys\n",
    "sys.path.append('../')\n",
    "from file_path import *\n",
    "\n",
    "import os\n",
    "from tqdm import tqdm\n"
   ]
  },
  {
   "cell_type": "markdown",
   "metadata": {},
   "source": [
    "# Define functions"
   ]
  },
  {
   "cell_type": "code",
   "execution_count": 3,
   "metadata": {},
   "outputs": [],
   "source": [
    "def merge(files, output, class_id=None, z_vi=None):\n",
    "    is_init = True\n",
    "    for file in tqdm(files):\n",
    "        f = h5py.File(file, 'r')         \n",
    "        # initialize by the first file\n",
    "        if is_init == True:\n",
    "            wavelengths = f['wavelength'][:] # wavelength only retrive from init loop\n",
    "            wavelengths_log = f['wavelength_log'][:] # wavelength only retrive from init loop\n",
    "            \n",
    "            sdss_names = f['sdss_name'][:]\n",
    "            thing_ids = f['thing_id'][:]\n",
    "            plates = f['plate'][:]\n",
    "            mjds = f['mjd'][:]\n",
    "            fiberids = f['fiberid'][:]\n",
    "            \n",
    "            class_persons = f['class_person'][:]\n",
    "            is_qso_qns = f['is_qso_qn'][:]\n",
    "            is_qso_dr12qs = f['is_qso_dr12q'][:]\n",
    "            is_qso_finals = f['is_qso_final'][:]\n",
    "            autoclass_pqns = f['autoclass_pqn'][:]\n",
    "            autoclass_dr14qs = f['autoclass_dr14q'][:]\n",
    "            sn_median_alls = f['sn_median_all'][:]\n",
    "            bal_probs = f['bal_prob'][:]\n",
    "            \n",
    "            z_vis = f['z_vi'][:]\n",
    "            z_confs = f['z_conf'][:]\n",
    "            z_dr12qs = f['z_dr12q'][:]\n",
    "            zs = f['z'][:]\n",
    "            z_pipes = f['z_pipe'][:]\n",
    "            z_pcas = f['z_pca'][:]\n",
    "            z_qns = f['z_qn'][:]\n",
    "            zwarn_pcas = f['zwarn_pca'][:]\n",
    "            deltachi2_pcas = f['deltachi2_pca'][:]\n",
    "            \n",
    "            urls = f['url'][:]\n",
    "            \n",
    "            fluxs = f['flux'][:]\n",
    "            flux_norms = f['flux_norm'][:]\n",
    "        \n",
    "            is_init = False\n",
    "            f.close()\n",
    "            continue\n",
    "        \n",
    "        # concatenate files\n",
    "        if is_init == False:\n",
    "            \n",
    "            sdss_names = np.concatenate((sdss_names, f['sdss_name'][:]))\n",
    "            thing_ids = np.concatenate((thing_ids, f['thing_id'][:]))\n",
    "            plates = np.concatenate((plates, f['plate'][:]))\n",
    "            mjds = np.concatenate((mjds, f['mjd'][:]))\n",
    "            fiberids = np.concatenate((fiberids, f['fiberid'][:]))\n",
    "            \n",
    "            class_persons = np.concatenate((class_persons, f['class_person'][:]))\n",
    "            is_qso_qns = np.concatenate((is_qso_qns, f['is_qso_qn'][:]))\n",
    "            is_qso_dr12qs = np.concatenate((is_qso_dr12qs, f['is_qso_dr12q'][:]))\n",
    "            is_qso_finals = np.concatenate((is_qso_finals, f['is_qso_final'][:]))\n",
    "            autoclass_pqns = np.concatenate((autoclass_pqns, f['autoclass_pqn'][:]))\n",
    "            autoclass_dr14qs = np.concatenate((autoclass_dr14qs, f['autoclass_dr14q'][:]))\n",
    "            sn_median_alls = np.concatenate((sn_median_alls, f['sn_median_all'][:]))\n",
    "            bal_probs = np.concatenate((bal_probs, f['bal_prob'][:]))\n",
    "            \n",
    "            z_vis = np.concatenate((z_vis, f['z_vi'][:]))\n",
    "            z_confs = np.concatenate((z_confs, f['z_conf'][:]))\n",
    "            z_dr12qs = np.concatenate((z_dr12qs, f['z_dr12q'][:]))\n",
    "            zs = np.concatenate((zs, f['z'][:]))\n",
    "            z_pipes = np.concatenate((z_pipes, f['z_pipe'][:]))\n",
    "            z_pcas = np.concatenate((z_pcas, f['z_pca'][:]))\n",
    "            z_qns = np.concatenate((z_qns, f['z_qn'][:]))\n",
    "            zwarn_pcas = np.concatenate((zwarn_pcas, f['zwarn_pca'][:]))\n",
    "            deltachi2_pcas = np.concatenate((deltachi2_pcas, f['deltachi2_pca'][:]))\n",
    "            \n",
    "            urls = np.concatenate((urls, f['url'][:]))\n",
    "            \n",
    "            fluxs = np.concatenate((fluxs, f['flux'][:]))\n",
    "            flux_norms = np.concatenate((flux_norms,f['flux_norm'][:]))\n",
    "            f.close()\n",
    "    \n",
    "    # filter by class_person\n",
    "    # 0: Not Inspected / 1: Star / 3: Quasar / 30: BAL Quasar / 4: Galaxy / 50: Blazar\n",
    "    if class_id:\n",
    "        class_mask = np.array([True if item == class_id else False for item in class_persons])\n",
    "        \n",
    "        sdss_names = sdss_names[class_mask]\n",
    "        thing_ids = thing_ids[class_mask]\n",
    "        plates = plates[class_mask]\n",
    "        mjds = mjds[class_mask]\n",
    "        fiberids = fiberids[class_mask]\n",
    "        \n",
    "        class_persons = class_persons[class_mask]\n",
    "        is_qso_qns = is_qso_qns[class_mask]\n",
    "        is_qso_dr12qs = is_qso_dr12qs[class_mask]\n",
    "        is_qso_finals = is_qso_finals[class_mask]\n",
    "        autoclass_pqns = autoclass_pqns[class_mask]\n",
    "        autoclass_dr14qs = autoclass_dr14qs[class_mask]\n",
    "        sn_median_alls = sn_median_alls[class_mask]\n",
    "        bal_probs = bal_probs[class_mask]\n",
    "        \n",
    "        z_vis = z_vis[class_mask]\n",
    "        z_confs = z_confs[class_mask]\n",
    "        z_dr12qs = z_dr12qs[class_mask]\n",
    "        zs = zs[class_mask]\n",
    "        z_pipes = z_pipes[class_mask]\n",
    "        z_pcas = z_pcas[class_mask]\n",
    "        z_qns = z_qns[class_mask]\n",
    "        zwarn_pcas = zwarn_pcas[class_mask]\n",
    "        deltachi2_pcas = deltachi2_pcas[class_mask]\n",
    "        \n",
    "        urls = urls[class_mask]\n",
    "        \n",
    "        fluxs = fluxs[class_mask]\n",
    "        flux_norms = flux_norms[class_mask]\n",
    "        \n",
    "    # filter by class_person\n",
    "    # 0: Not Inspected / 1: Star / 3: Quasar / 30: BAL Quasar / 4: Galaxy / 50: Blazar\n",
    "    if z_vi:\n",
    "        class_mask = np.array([True if item > 0 else False for item in z_vis])\n",
    "        \n",
    "        sdss_names = sdss_names[class_mask]\n",
    "        thing_ids = thing_ids[class_mask]\n",
    "        plates = plates[class_mask]\n",
    "        mjds = mjds[class_mask]\n",
    "        fiberids = fiberids[class_mask]\n",
    "        \n",
    "        class_persons = class_persons[class_mask]\n",
    "        is_qso_qns = is_qso_qns[class_mask]\n",
    "        is_qso_dr12qs = is_qso_dr12qs[class_mask]\n",
    "        is_qso_finals = is_qso_finals[class_mask]\n",
    "        autoclass_pqns = autoclass_pqns[class_mask]\n",
    "        autoclass_dr14qs = autoclass_dr14qs[class_mask]\n",
    "        sn_median_alls = sn_median_alls[class_mask]\n",
    "        bal_probs = bal_probs[class_mask]\n",
    "        \n",
    "        z_vis = z_vis[class_mask]\n",
    "        z_confs = z_confs[class_mask]\n",
    "        z_dr12qs = z_dr12qs[class_mask]\n",
    "        zs = zs[class_mask]\n",
    "        z_pipes = z_pipes[class_mask]\n",
    "        z_pcas = z_pcas[class_mask]\n",
    "        z_qns = z_qns[class_mask]\n",
    "        zwarn_pcas = zwarn_pcas[class_mask]\n",
    "        deltachi2_pcas = deltachi2_pcas[class_mask]\n",
    "        \n",
    "        urls = urls[class_mask]\n",
    "        \n",
    "        fluxs = fluxs[class_mask]\n",
    "        flux_norms = flux_norms[class_mask]\n",
    "        \n",
    "    # write to file\n",
    "    print('Writing to file:', output)\n",
    "    f = h5py.File(output,'w')\n",
    "    indexs = np.arange(len(sdss_names))\n",
    "    dset_index = f.create_dataset(name=\"index\", data = indexs, dtype='i8')\n",
    "    \n",
    "    dset_sdss_name = f.create_dataset(name=\"sdss_name\", data = sdss_names, dtype=h5py.string_dtype())\n",
    "    dset_thing_id = f.create_dataset(name=\"thing_id\", data = thing_ids, dtype='i8')\n",
    "    dset_plate = f.create_dataset(name=\"plate\", data = plates, dtype='i8')\n",
    "    dset_mjd = f.create_dataset(name=\"mjd\", data = mjds, dtype='i8')\n",
    "    dset_fiberid = f.create_dataset(name=\"fiberid\", data = fiberids, dtype='i8')\n",
    "    \n",
    "    dset_class_person = f.create_dataset(name=\"class_person\", data = class_persons, dtype='i8')\n",
    "    dset_is_qso_dr12q = f.create_dataset(name=\"is_qso_dr12q\", data = is_qso_dr12qs, dtype='i8')\n",
    "    dset_is_qso_final = f.create_dataset(name=\"is_qso_final\", data = is_qso_finals, dtype='i8')\n",
    "    dset_is_qso_qn = f.create_dataset(name=\"is_qso_qn\", data = is_qso_qns, dtype='i8')\n",
    "    dset_autoclass_pqn = f.create_dataset(name=\"autoclass_pqn\", data = autoclass_pqns, dtype=h5py.string_dtype())\n",
    "    dset_autoclass_dr14q = f.create_dataset(name=\"autoclass_dr14q\", data = autoclass_dr14qs, dtype=h5py.string_dtype())\n",
    "    dset_sn_median_all = f.create_dataset(name=\"sn_median_all\", data = sn_median_alls, dtype=np.float32)\n",
    "    dset_bal_prob = f.create_dataset(name=\"bal_prob\", data = bal_probs, dtype=np.float32)\n",
    "    \n",
    "    dset_z_vi = f.create_dataset(name=\"z_vi\", data = z_vis, dtype=np.float32)\n",
    "    dset_z_conf = f.create_dataset(name=\"z_conf\", data = z_confs, dtype=np.float32)\n",
    "    dset_z_dr12q = f.create_dataset(name=\"z_dr12q\", data = z_dr12qs, dtype=np.float32)\n",
    "    dset_z = f.create_dataset(name=\"z\", data = zs, dtype=np.float32)\n",
    "    dset_z_pipe = f.create_dataset(name=\"z_pipe\", data = z_pipes, dtype=np.float32)\n",
    "    dset_z_pca = f.create_dataset(name=\"z_pca\", data = z_pcas, dtype=np.float32)\n",
    "    dset_z_qn = f.create_dataset(name=\"z_qn\", data = z_qns, dtype=np.float32)\n",
    "    dset_zwarn_pca = f.create_dataset(name=\"zwarn_pca\", data = zwarn_pcas, dtype='i8')\n",
    "    dset_deltachi2_pca = f.create_dataset(name=\"deltachi2_pca\", data = deltachi2_pcas, dtype=np.float32)\n",
    "    \n",
    "    dset_url = f.create_dataset(name=\"url\", data = urls, dtype=h5py.string_dtype())\n",
    "\n",
    "    dset_wavelength = f.create_dataset(name=\"wavelength\", data = wavelengths, dtype=np.float32)\n",
    "    dset_wavelength_log = f.create_dataset(name=\"wavelength_log\", data = wavelengths_log, dtype=np.float32)\n",
    "    dset_flux = f.create_dataset(name=\"flux\", data = fluxs, dtype=np.float32)\n",
    "    dset_flux_norm = f.create_dataset(name=\"flux_norm\", data = flux_norms, dtype=np.float32)\n",
    "    \n",
    "    f.attrs['CLASS'] = '0: Not Inspected / 1: Star / 3: Quasar / 30: BAL Quasar / 4: Galaxy / 50: Blazar'\n",
    "    f.attrs['TIMECREA'] = '2020-07-30 11:54:19'\n",
    "    f.attrs['TIMEMODI'] = strftime(\"%Y-%m-%d %H:%M:%S\", gmtime())\n",
    "    f.attrs['REFERENCE'] = 'https://data.sdss.org/datamodel/files/BOSS_QSO/DR16Q/DR16Q_v4.html'\n",
    "    f.attrs['COMMENTS'] = 'SDSS Spectrum'\n",
    "    f.attrs['CREATOR'] = 'yu.wang@uniroma1.it'\n",
    "    f.attrs['MODIFIER'] = 'yu.wang@uniroma1.it'\n",
    "    \n",
    "    dset_wavelength.attrs['unit'] = 'A'\n",
    "    dset_flux.attrs['unit'] = '1e-17 erg/cm2/s/A'\n",
    "    \n",
    "    f.close()\n",
    "    \n",
    "    print('Saved')"
   ]
  },
  {
   "cell_type": "markdown",
   "metadata": {},
   "source": [
    "# Merge files"
   ]
  },
  {
   "cell_type": "code",
   "execution_count": 4,
   "metadata": {},
   "outputs": [],
   "source": [
    "#files = [feature_path+'dr16q-spectrum-3600-10350-n3000.h5', \n",
    "#         feature_path+'dr16q-spectrum-3600-10350-n4000.h5',\n",
    "#         feature_path+'dr16q-spectrum-3600-10350-n5000.h5',\n",
    "#         feature_path+'dr16q-spectrum-3600-10350-n6000.h5',\n",
    "#         feature_path+'dr16q-spectrum-3600-10350-n7000.h5',\n",
    "#         feature_path+'dr16q-spectrum-3600-10350-n7500.h5']\n",
    "\n",
    "filenames = [feature_path+x for x in os.listdir(feature_path) if x.endswith(\".h5\")]"
   ]
  },
  {
   "cell_type": "code",
   "execution_count": 5,
   "metadata": {},
   "outputs": [
    {
     "data": {
      "text/plain": [
       "74"
      ]
     },
     "execution_count": 5,
     "metadata": {},
     "output_type": "execute_result"
    }
   ],
   "source": [
    "len(filenames)"
   ]
  },
  {
   "cell_type": "code",
   "execution_count": null,
   "metadata": {},
   "outputs": [
    {
     "name": "stderr",
     "output_type": "stream",
     "text": [
      " 80%|███████▉  | 59/74 [05:42<02:38, 10.59s/it]"
     ]
    }
   ],
   "source": [
    "output = feature_path+'dr16q-full-spectrum.h5'\n",
    "\n",
    "merge(filenames, output, class_id=False, z_vi=False)"
   ]
  },
  {
   "cell_type": "code",
   "execution_count": 4,
   "metadata": {},
   "outputs": [
    {
     "name": "stderr",
     "output_type": "stream",
     "text": [
      "100%|██████████| 4/4 [00:13<00:00,  3.46s/it]\n"
     ]
    },
    {
     "name": "stdout",
     "output_type": "stream",
     "text": [
      "Writing to file: ../feature/dr16q-spectrum-3600-10350-n3456-zvi-bal.h5\n",
      "Saved\n"
     ]
    }
   ],
   "source": [
    "output = feature_path+'dr16q-spectrum-3600-10350-n3456-zvi-bal.h5'\n",
    "\n",
    "merge(files, output, class_id=30, z_vi=True)"
   ]
  },
  {
   "cell_type": "code",
   "execution_count": 5,
   "metadata": {},
   "outputs": [
    {
     "name": "stderr",
     "output_type": "stream",
     "text": [
      "100%|██████████| 4/4 [00:13<00:00,  3.46s/it]\n"
     ]
    },
    {
     "name": "stdout",
     "output_type": "stream",
     "text": [
      "Writing to file: ../feature/dr16q-spectrum-3600-10350-n3456-zvi-galaxy.h5\n",
      "Saved\n"
     ]
    }
   ],
   "source": [
    "output = feature_path+'dr16q-spectrum-3600-10350-n3456-zvi-galaxy.h5'\n",
    "\n",
    "merge(files, output, class_id=4, z_vi=True)"
   ]
  },
  {
   "cell_type": "code",
   "execution_count": 6,
   "metadata": {},
   "outputs": [
    {
     "name": "stderr",
     "output_type": "stream",
     "text": [
      "100%|██████████| 4/4 [00:13<00:00,  3.44s/it]\n"
     ]
    },
    {
     "name": "stdout",
     "output_type": "stream",
     "text": [
      "Writing to file: ../feature/dr16q-spectrum-3600-10350-n3456-zvi-star.h5\n",
      "Saved\n"
     ]
    }
   ],
   "source": [
    "output = feature_path+'dr16q-spectrum-3600-10350-n3456-zvi-star.h5'\n",
    "\n",
    "merge(files, output, class_id=1, z_vi=True)"
   ]
  },
  {
   "cell_type": "code",
   "execution_count": 7,
   "metadata": {},
   "outputs": [
    {
     "name": "stderr",
     "output_type": "stream",
     "text": [
      "100%|██████████| 4/4 [00:13<00:00,  3.46s/it]"
     ]
    },
    {
     "name": "stdout",
     "output_type": "stream",
     "text": [
      "Writing to file: ../feature/dr16q-spectrum-3600-10350-n3456-zvi-blazer.h5\n",
      "Saved\n"
     ]
    },
    {
     "name": "stderr",
     "output_type": "stream",
     "text": [
      "\n"
     ]
    }
   ],
   "source": [
    "output = feature_path+'dr16q-spectrum-3600-10350-n3456-zvi-blazer.h5'\n",
    "\n",
    "merge(files, output, class_id=50, z_vi=True)"
   ]
  },
  {
   "cell_type": "code",
   "execution_count": 12,
   "metadata": {},
   "outputs": [
    {
     "name": "stderr",
     "output_type": "stream",
     "text": [
      "100%|██████████| 1/1 [00:00<00:00,  1.12it/s]\n"
     ]
    },
    {
     "name": "stdout",
     "output_type": "stream",
     "text": [
      "Writing to file: ../feature/dr16q-spectrum-3600-10350-n9000-zvi.h5\n",
      "Saved\n"
     ]
    }
   ],
   "source": [
    "files = [feature_path+'dr16q-spectrum-3600-10350-n9000.h5']\n",
    "\n",
    "output = feature_path+'dr16q-spectrum-3600-10350-n9000-zvi.h5'\n",
    "\n",
    "merge(files, output, class_id=None, z_vi=True)"
   ]
  },
  {
   "cell_type": "code",
   "execution_count": null,
   "metadata": {},
   "outputs": [],
   "source": []
  }
 ],
 "metadata": {
  "kernelspec": {
   "display_name": "Python 3",
   "language": "python",
   "name": "python3"
  },
  "language_info": {
   "codemirror_mode": {
    "name": "ipython",
    "version": 3
   },
   "file_extension": ".py",
   "mimetype": "text/x-python",
   "name": "python",
   "nbconvert_exporter": "python",
   "pygments_lexer": "ipython3",
   "version": "3.7.10"
  },
  "toc": {
   "base_numbering": 1,
   "nav_menu": {},
   "number_sections": true,
   "sideBar": true,
   "skip_h1_title": false,
   "title_cell": "Table of Contents",
   "title_sidebar": "Contents",
   "toc_cell": false,
   "toc_position": {},
   "toc_section_display": true,
   "toc_window_display": false
  },
  "varInspector": {
   "cols": {
    "lenName": 16,
    "lenType": 16,
    "lenVar": 40
   },
   "kernels_config": {
    "python": {
     "delete_cmd_postfix": "",
     "delete_cmd_prefix": "del ",
     "library": "var_list.py",
     "varRefreshCmd": "print(var_dic_list())"
    },
    "r": {
     "delete_cmd_postfix": ") ",
     "delete_cmd_prefix": "rm(",
     "library": "var_list.r",
     "varRefreshCmd": "cat(var_dic_list()) "
    }
   },
   "types_to_exclude": [
    "module",
    "function",
    "builtin_function_or_method",
    "instance",
    "_Feature"
   ],
   "window_display": false
  }
 },
 "nbformat": 4,
 "nbformat_minor": 2
}
