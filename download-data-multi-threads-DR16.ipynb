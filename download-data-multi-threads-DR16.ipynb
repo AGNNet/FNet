{
 "cells": [
  {
   "cell_type": "markdown",
   "metadata": {},
   "source": [
    "# The Sloan Digital Sky Survey Quasar Catalog: sixteenth data release (DR16Q)\n",
    "\n",
    "Catalogue of DR16Q_Superset_v3.fits. The column descriptions can be found in the data models.\n",
    "\n",
    "https://www.sdss.org/dr16/algorithms/qso_catalog/"
   ]
  },
  {
   "cell_type": "code",
   "execution_count": 1,
   "metadata": {
    "ExecuteTime": {
     "end_time": "2020-01-06T04:41:01.939716Z",
     "start_time": "2020-01-06T04:41:01.934240Z"
    }
   },
   "outputs": [],
   "source": [
    "from astropy.io import fits\n",
    "from astropy.table import Table\n",
    "from matplotlib import pyplot as plt\n",
    "from astroML.datasets import fetch_sdss_spectrum\n",
    "import multiprocessing\n",
    "import pandas as pd\n",
    "from functools import partial\n",
    "import numpy as np\n",
    "import glob\n",
    "import re\n",
    "import wget\n",
    "import os\n",
    "import shutil\n",
    "import os.path\n",
    "\n",
    "import sys\n",
    "sys.path.append('../')\n",
    "from file_path import *\n",
    "from tqdm import tqdm"
   ]
  },
  {
   "cell_type": "markdown",
   "metadata": {},
   "source": [
    "# Read lists"
   ]
  },
  {
   "cell_type": "code",
   "execution_count": 2,
   "metadata": {},
   "outputs": [],
   "source": [
    "catalogue = Table.read('../../SDSS-data/DR16Q_Superset_v3.fits', format='fits')\n",
    "names = catalogue['PLATE','MJD','FIBERID', 'CLASS_PERSON','Z_VI', 'Z_QN'].to_pandas()"
   ]
  },
  {
   "cell_type": "markdown",
   "metadata": {},
   "source": [
    "# Define multithreds functions"
   ]
  },
  {
   "cell_type": "code",
   "execution_count": 3,
   "metadata": {
    "ExecuteTime": {
     "end_time": "2020-01-06T00:26:48.049973Z",
     "start_time": "2020-01-06T00:26:48.030000Z"
    }
   },
   "outputs": [],
   "source": [
    "def parallelize_dataframe(df,func,data_home='./',number=8):\n",
    "    num_partitions = number # number of partitions to split dataframe\n",
    "    df_split = np.array_split(df, num_partitions)\n",
    "    pool = multiprocessing.Pool(num_partitions)\n",
    "    f = partial(func, data_home)\n",
    "    pool.map(f, df_split)\n",
    "    pool.close()\n",
    "    pool.join()\n",
    "    return\n",
    "\n",
    "def download(data_home,df):\n",
    "    # Fetch single spectrum\n",
    "    for index, row in df.iterrows():\n",
    "        plate = str(int(row['PLATE']))\n",
    "        mjd = str(int(row['MJD'])).zfill(5)\n",
    "        fiberID = str(int(row['FIBERID'])).zfill(4)\n",
    "        rootURL = 'https://data.sdss.org/sas/dr16/eboss/spectro/redux/v5_13_0/spectra/full/'+plate+'/'\n",
    "        filename = 'spec-'+plate+'-'+mjd+'-'+fiberID+'.fits'\n",
    "        url = rootURL+filename  \n",
    "        if os.path.exists(data_home+'/'+filename):\n",
    "            #print(filename,': file exsit, skip.')\n",
    "            continue        \n",
    "        try:\n",
    "            wget.download(url,data_home)\n",
    "        except:\n",
    "            print(\"!Failed:\", plate, mjd, fiberID,'\\n')\n"
   ]
  },
  {
   "cell_type": "markdown",
   "metadata": {},
   "source": [
    "# Download Quasars"
   ]
  },
  {
   "cell_type": "code",
   "execution_count": 4,
   "metadata": {},
   "outputs": [],
   "source": [
    "names10000 = names[names['PLATE']>10000]\n",
    "names9000 = names[(names['PLATE']<=10000) & (names['PLATE']>9000)]\n",
    "names8000 = names[(names['PLATE']<=9000) & (names['PLATE']>8000)]\n",
    "names7000 = names[(names['PLATE']<=8000) & (names['PLATE']>7000)]\n",
    "names6000 = names[(names['PLATE']<=7000) & (names['PLATE']>6000)]\n",
    "names5000 = names[(names['PLATE']<=6000) & (names['PLATE']>5000)]\n",
    "names4000 = names[(names['PLATE']<=5000) & (names['PLATE']>4000)]\n",
    "names3000 = names[(names['PLATE']<=4000) & (names['PLATE']>3523)]"
   ]
  },
  {
   "cell_type": "code",
   "execution_count": 7,
   "metadata": {},
   "outputs": [],
   "source": [
    "parallelize_dataframe(remain,download,data_home=data_path+'../../SDSS-data/DR16Q_Superset_v3/8000/',number=16)"
   ]
  },
  {
   "cell_type": "code",
   "execution_count": 11,
   "metadata": {},
   "outputs": [],
   "source": [
    "len(catalogue[catalogue['Z_QN']>0])"
   ]
  },
  {
   "cell_type": "code",
   "execution_count": 8,
   "metadata": {},
   "outputs": [
    {
     "data": {
      "text/html": [
       "<div>\n",
       "<style scoped>\n",
       "    .dataframe tbody tr th:only-of-type {\n",
       "        vertical-align: middle;\n",
       "    }\n",
       "\n",
       "    .dataframe tbody tr th {\n",
       "        vertical-align: top;\n",
       "    }\n",
       "\n",
       "    .dataframe thead th {\n",
       "        text-align: right;\n",
       "    }\n",
       "</style>\n",
       "<table border=\"1\" class=\"dataframe\">\n",
       "  <thead>\n",
       "    <tr style=\"text-align: right;\">\n",
       "      <th></th>\n",
       "      <th>PLATE</th>\n",
       "      <th>MJD</th>\n",
       "      <th>FIBERID</th>\n",
       "      <th>CLASS_PERSON</th>\n",
       "      <th>Z_VI</th>\n",
       "      <th>Z_QN</th>\n",
       "    </tr>\n",
       "  </thead>\n",
       "  <tbody>\n",
       "    <tr>\n",
       "      <th>38</th>\n",
       "      <td>9345</td>\n",
       "      <td>57713</td>\n",
       "      <td>519</td>\n",
       "      <td>3</td>\n",
       "      <td>1.360</td>\n",
       "      <td>1.349210</td>\n",
       "    </tr>\n",
       "    <tr>\n",
       "      <th>377</th>\n",
       "      <td>9403</td>\n",
       "      <td>58018</td>\n",
       "      <td>485</td>\n",
       "      <td>0</td>\n",
       "      <td>-1.000</td>\n",
       "      <td>0.482406</td>\n",
       "    </tr>\n",
       "    <tr>\n",
       "      <th>435</th>\n",
       "      <td>9345</td>\n",
       "      <td>57713</td>\n",
       "      <td>493</td>\n",
       "      <td>0</td>\n",
       "      <td>-1.000</td>\n",
       "      <td>2.042758</td>\n",
       "    </tr>\n",
       "    <tr>\n",
       "      <th>464</th>\n",
       "      <td>9403</td>\n",
       "      <td>58018</td>\n",
       "      <td>500</td>\n",
       "      <td>0</td>\n",
       "      <td>-1.000</td>\n",
       "      <td>2.607313</td>\n",
       "    </tr>\n",
       "    <tr>\n",
       "      <th>483</th>\n",
       "      <td>9403</td>\n",
       "      <td>58018</td>\n",
       "      <td>513</td>\n",
       "      <td>0</td>\n",
       "      <td>-1.000</td>\n",
       "      <td>1.857009</td>\n",
       "    </tr>\n",
       "    <tr>\n",
       "      <th>...</th>\n",
       "      <td>...</td>\n",
       "      <td>...</td>\n",
       "      <td>...</td>\n",
       "      <td>...</td>\n",
       "      <td>...</td>\n",
       "      <td>...</td>\n",
       "    </tr>\n",
       "    <tr>\n",
       "      <th>1440554</th>\n",
       "      <td>9179</td>\n",
       "      <td>57682</td>\n",
       "      <td>10</td>\n",
       "      <td>0</td>\n",
       "      <td>-1.000</td>\n",
       "      <td>2.040523</td>\n",
       "    </tr>\n",
       "    <tr>\n",
       "      <th>1440566</th>\n",
       "      <td>9179</td>\n",
       "      <td>57682</td>\n",
       "      <td>994</td>\n",
       "      <td>0</td>\n",
       "      <td>-1.000</td>\n",
       "      <td>1.820021</td>\n",
       "    </tr>\n",
       "    <tr>\n",
       "      <th>1440569</th>\n",
       "      <td>9179</td>\n",
       "      <td>57682</td>\n",
       "      <td>56</td>\n",
       "      <td>3</td>\n",
       "      <td>3.066</td>\n",
       "      <td>3.060739</td>\n",
       "    </tr>\n",
       "    <tr>\n",
       "      <th>1440573</th>\n",
       "      <td>9159</td>\n",
       "      <td>57666</td>\n",
       "      <td>9</td>\n",
       "      <td>0</td>\n",
       "      <td>-1.000</td>\n",
       "      <td>1.772507</td>\n",
       "    </tr>\n",
       "    <tr>\n",
       "      <th>1440593</th>\n",
       "      <td>9159</td>\n",
       "      <td>57666</td>\n",
       "      <td>20</td>\n",
       "      <td>0</td>\n",
       "      <td>-1.000</td>\n",
       "      <td>1.351782</td>\n",
       "    </tr>\n",
       "  </tbody>\n",
       "</table>\n",
       "<p>53670 rows × 6 columns</p>\n",
       "</div>"
      ],
      "text/plain": [
       "         PLATE    MJD  FIBERID  CLASS_PERSON   Z_VI      Z_QN\n",
       "38        9345  57713      519             3  1.360  1.349210\n",
       "377       9403  58018      485             0 -1.000  0.482406\n",
       "435       9345  57713      493             0 -1.000  2.042758\n",
       "464       9403  58018      500             0 -1.000  2.607313\n",
       "483       9403  58018      513             0 -1.000  1.857009\n",
       "...        ...    ...      ...           ...    ...       ...\n",
       "1440554   9179  57682       10             0 -1.000  2.040523\n",
       "1440566   9179  57682      994             0 -1.000  1.820021\n",
       "1440569   9179  57682       56             3  3.066  3.060739\n",
       "1440573   9159  57666        9             0 -1.000  1.772507\n",
       "1440593   9159  57666       20             0 -1.000  1.351782\n",
       "\n",
       "[53670 rows x 6 columns]"
      ]
     },
     "execution_count": 8,
     "metadata": {},
     "output_type": "execute_result"
    }
   ],
   "source": [
    "names9000"
   ]
  },
  {
   "cell_type": "code",
   "execution_count": 25,
   "metadata": {},
   "outputs": [
    {
     "data": {
      "text/html": [
       "<div>\n",
       "<style scoped>\n",
       "    .dataframe tbody tr th:only-of-type {\n",
       "        vertical-align: middle;\n",
       "    }\n",
       "\n",
       "    .dataframe tbody tr th {\n",
       "        vertical-align: top;\n",
       "    }\n",
       "\n",
       "    .dataframe thead th {\n",
       "        text-align: right;\n",
       "    }\n",
       "</style>\n",
       "<table border=\"1\" class=\"dataframe\">\n",
       "  <thead>\n",
       "    <tr style=\"text-align: right;\">\n",
       "      <th></th>\n",
       "      <th>PLATE</th>\n",
       "      <th>MJD</th>\n",
       "      <th>FIBERID</th>\n",
       "      <th>CLASS_PERSON</th>\n",
       "      <th>Z_VI</th>\n",
       "      <th>Z_QN</th>\n",
       "    </tr>\n",
       "  </thead>\n",
       "  <tbody>\n",
       "    <tr>\n",
       "      <th>15</th>\n",
       "      <td>6173</td>\n",
       "      <td>56238</td>\n",
       "      <td>528</td>\n",
       "      <td>3</td>\n",
       "      <td>2.309</td>\n",
       "      <td>2.311340</td>\n",
       "    </tr>\n",
       "    <tr>\n",
       "      <th>16</th>\n",
       "      <td>7596</td>\n",
       "      <td>56945</td>\n",
       "      <td>162</td>\n",
       "      <td>3</td>\n",
       "      <td>2.309</td>\n",
       "      <td>2.309355</td>\n",
       "    </tr>\n",
       "    <tr>\n",
       "      <th>19</th>\n",
       "      <td>4216</td>\n",
       "      <td>55477</td>\n",
       "      <td>310</td>\n",
       "      <td>3</td>\n",
       "      <td>0.250</td>\n",
       "      <td>-1.000000</td>\n",
       "    </tr>\n",
       "    <tr>\n",
       "      <th>27</th>\n",
       "      <td>6172</td>\n",
       "      <td>56269</td>\n",
       "      <td>366</td>\n",
       "      <td>3</td>\n",
       "      <td>2.497</td>\n",
       "      <td>2.498696</td>\n",
       "    </tr>\n",
       "    <tr>\n",
       "      <th>28</th>\n",
       "      <td>6177</td>\n",
       "      <td>56268</td>\n",
       "      <td>595</td>\n",
       "      <td>3</td>\n",
       "      <td>2.497</td>\n",
       "      <td>2.511271</td>\n",
       "    </tr>\n",
       "    <tr>\n",
       "      <th>...</th>\n",
       "      <td>...</td>\n",
       "      <td>...</td>\n",
       "      <td>...</td>\n",
       "      <td>...</td>\n",
       "      <td>...</td>\n",
       "      <td>...</td>\n",
       "    </tr>\n",
       "    <tr>\n",
       "      <th>1440600</th>\n",
       "      <td>6182</td>\n",
       "      <td>56190</td>\n",
       "      <td>380</td>\n",
       "      <td>3</td>\n",
       "      <td>2.415</td>\n",
       "      <td>2.419373</td>\n",
       "    </tr>\n",
       "    <tr>\n",
       "      <th>1440606</th>\n",
       "      <td>7696</td>\n",
       "      <td>57655</td>\n",
       "      <td>120</td>\n",
       "      <td>3</td>\n",
       "      <td>2.452</td>\n",
       "      <td>2.443098</td>\n",
       "    </tr>\n",
       "    <tr>\n",
       "      <th>1440607</th>\n",
       "      <td>6511</td>\n",
       "      <td>56540</td>\n",
       "      <td>912</td>\n",
       "      <td>3</td>\n",
       "      <td>2.452</td>\n",
       "      <td>2.451875</td>\n",
       "    </tr>\n",
       "    <tr>\n",
       "      <th>1440608</th>\n",
       "      <td>7134</td>\n",
       "      <td>56566</td>\n",
       "      <td>408</td>\n",
       "      <td>3</td>\n",
       "      <td>2.452</td>\n",
       "      <td>2.452158</td>\n",
       "    </tr>\n",
       "    <tr>\n",
       "      <th>1440610</th>\n",
       "      <td>7145</td>\n",
       "      <td>56567</td>\n",
       "      <td>240</td>\n",
       "      <td>3</td>\n",
       "      <td>3.109</td>\n",
       "      <td>3.095621</td>\n",
       "    </tr>\n",
       "  </tbody>\n",
       "</table>\n",
       "<p>396831 rows × 6 columns</p>\n",
       "</div>"
      ],
      "text/plain": [
       "         PLATE    MJD  FIBERID  CLASS_PERSON   Z_VI      Z_QN\n",
       "15        6173  56238      528             3  2.309  2.311340\n",
       "16        7596  56945      162             3  2.309  2.309355\n",
       "19        4216  55477      310             3  0.250 -1.000000\n",
       "27        6172  56269      366             3  2.497  2.498696\n",
       "28        6177  56268      595             3  2.497  2.511271\n",
       "...        ...    ...      ...           ...    ...       ...\n",
       "1440600   6182  56190      380             3  2.415  2.419373\n",
       "1440606   7696  57655      120             3  2.452  2.443098\n",
       "1440607   6511  56540      912             3  2.452  2.451875\n",
       "1440608   7134  56566      408             3  2.452  2.452158\n",
       "1440610   7145  56567      240             3  3.109  3.095621\n",
       "\n",
       "[396831 rows x 6 columns]"
      ]
     },
     "execution_count": 25,
     "metadata": {},
     "output_type": "execute_result"
    }
   ],
   "source": [
    "ids[(ids['CLASS_PERSON'] == 3) & (ids['Z_VI']>0)]"
   ]
  },
  {
   "cell_type": "code",
   "execution_count": 19,
   "metadata": {},
   "outputs": [
    {
     "name": "stdout",
     "output_type": "stream",
     "text": [
      "Not Inspected: 731347\n",
      "Star: 233859\n",
      "Quasar: 396843\n",
      "Galaxy: 39054\n",
      "BAL Quasar: 39501\n",
      "Blazar: 11\n",
      "Total: 1440615\n"
     ]
    }
   ],
   "source": [
    "print('Not Inspected:', len(catalogue[catalogue['CLASS_PERSON'] == 0]))\n",
    "print('Star:', len(catalogue[catalogue['CLASS_PERSON'] == 1]))\n",
    "print('Quasar:', len(catalogue[catalogue['CLASS_PERSON'] == 3]))\n",
    "print('Galaxy:', len(catalogue[catalogue['CLASS_PERSON'] == 4]))\n",
    "print('BAL Quasar:', len(catalogue[catalogue['CLASS_PERSON'] == 30]))\n",
    "print('Blazar:', len(catalogue[catalogue['CLASS_PERSON'] == 50]))\n",
    "print('Total:', len(catalogue))"
   ]
  },
  {
   "cell_type": "code",
   "execution_count": 24,
   "metadata": {},
   "outputs": [],
   "source": [
    "zVIs =  catalogue['PLATE','MJD','FIBERID', 'CLASS_PERSON','Z_VI', 'Z_QN'].to_pandas()\n",
    "zVIs = zVIs[zVIs['Z_VI']>0]"
   ]
  },
  {
   "cell_type": "code",
   "execution_count": 25,
   "metadata": {},
   "outputs": [
    {
     "name": "stdout",
     "output_type": "stream",
     "text": [
      "zVI Not Inspected: 4789\n",
      "zVI Star: 3406\n",
      "zVI Quasar: 396831\n",
      "zVI Galaxy: 30666\n",
      "zVI BAL Quasar: 39501\n",
      "zVI Blazar: 1\n",
      "zVI Total: 475194\n"
     ]
    }
   ],
   "source": [
    "print('zVI Not Inspected:', len(zVIs[zVIs['CLASS_PERSON'] == 0]))\n",
    "print('zVI Star:', len(zVIs[zVIs['CLASS_PERSON'] == 1]))\n",
    "print('zVI Quasar:', len(zVIs[zVIs['CLASS_PERSON'] == 3]))\n",
    "print('zVI Galaxy:', len(zVIs[zVIs['CLASS_PERSON'] == 4]))\n",
    "print('zVI BAL Quasar:', len(zVIs[zVIs['CLASS_PERSON'] == 30]))\n",
    "print('zVI Blazar:', len(zVIs[zVIs['CLASS_PERSON'] == 50]))\n",
    "print('zVI Total:', len(zVIs))"
   ]
  },
  {
   "cell_type": "code",
   "execution_count": null,
   "metadata": {},
   "outputs": [],
   "source": [
    "396843/233859"
   ]
  },
  {
   "cell_type": "code",
   "execution_count": 14,
   "metadata": {},
   "outputs": [],
   "source": [
    "274967/192925"
   ]
  },
  {
   "cell_type": "code",
   "execution_count": null,
   "metadata": {},
   "outputs": [],
   "source": [
    "len(names7000)"
   ]
  },
  {
   "cell_type": "code",
   "execution_count": 23,
   "metadata": {},
   "outputs": [
    {
     "data": {
      "text/html": [
       "<div>\n",
       "<style scoped>\n",
       "    .dataframe tbody tr th:only-of-type {\n",
       "        vertical-align: middle;\n",
       "    }\n",
       "\n",
       "    .dataframe tbody tr th {\n",
       "        vertical-align: top;\n",
       "    }\n",
       "\n",
       "    .dataframe thead th {\n",
       "        text-align: right;\n",
       "    }\n",
       "</style>\n",
       "<table border=\"1\" class=\"dataframe\">\n",
       "  <thead>\n",
       "    <tr style=\"text-align: right;\">\n",
       "      <th></th>\n",
       "      <th>PLATE</th>\n",
       "      <th>MJD</th>\n",
       "      <th>FIBERID</th>\n",
       "      <th>CLASS_PERSON</th>\n",
       "      <th>Z_VI</th>\n",
       "      <th>Z_QN</th>\n",
       "    </tr>\n",
       "  </thead>\n",
       "  <tbody>\n",
       "    <tr>\n",
       "      <th>0</th>\n",
       "      <td>11279</td>\n",
       "      <td>58449</td>\n",
       "      <td>85</td>\n",
       "      <td>0</td>\n",
       "      <td>-1.0</td>\n",
       "      <td>2.029856</td>\n",
       "    </tr>\n",
       "    <tr>\n",
       "      <th>9</th>\n",
       "      <td>11279</td>\n",
       "      <td>58449</td>\n",
       "      <td>978</td>\n",
       "      <td>0</td>\n",
       "      <td>-1.0</td>\n",
       "      <td>1.565547</td>\n",
       "    </tr>\n",
       "    <tr>\n",
       "      <th>14</th>\n",
       "      <td>11277</td>\n",
       "      <td>58450</td>\n",
       "      <td>705</td>\n",
       "      <td>0</td>\n",
       "      <td>-1.0</td>\n",
       "      <td>2.033733</td>\n",
       "    </tr>\n",
       "    <tr>\n",
       "      <th>34</th>\n",
       "      <td>11277</td>\n",
       "      <td>58450</td>\n",
       "      <td>294</td>\n",
       "      <td>0</td>\n",
       "      <td>-1.0</td>\n",
       "      <td>0.856487</td>\n",
       "    </tr>\n",
       "    <tr>\n",
       "      <th>40</th>\n",
       "      <td>11546</td>\n",
       "      <td>58488</td>\n",
       "      <td>936</td>\n",
       "      <td>0</td>\n",
       "      <td>-1.0</td>\n",
       "      <td>0.542567</td>\n",
       "    </tr>\n",
       "    <tr>\n",
       "      <th>...</th>\n",
       "      <td>...</td>\n",
       "      <td>...</td>\n",
       "      <td>...</td>\n",
       "      <td>...</td>\n",
       "      <td>...</td>\n",
       "      <td>...</td>\n",
       "    </tr>\n",
       "    <tr>\n",
       "      <th>1440577</th>\n",
       "      <td>11279</td>\n",
       "      <td>58449</td>\n",
       "      <td>947</td>\n",
       "      <td>0</td>\n",
       "      <td>-1.0</td>\n",
       "      <td>2.321162</td>\n",
       "    </tr>\n",
       "    <tr>\n",
       "      <th>1440590</th>\n",
       "      <td>11546</td>\n",
       "      <td>58488</td>\n",
       "      <td>78</td>\n",
       "      <td>0</td>\n",
       "      <td>-1.0</td>\n",
       "      <td>1.280721</td>\n",
       "    </tr>\n",
       "    <tr>\n",
       "      <th>1440596</th>\n",
       "      <td>11277</td>\n",
       "      <td>58450</td>\n",
       "      <td>700</td>\n",
       "      <td>0</td>\n",
       "      <td>-1.0</td>\n",
       "      <td>1.656114</td>\n",
       "    </tr>\n",
       "    <tr>\n",
       "      <th>1440601</th>\n",
       "      <td>11277</td>\n",
       "      <td>58450</td>\n",
       "      <td>685</td>\n",
       "      <td>0</td>\n",
       "      <td>-1.0</td>\n",
       "      <td>2.418494</td>\n",
       "    </tr>\n",
       "    <tr>\n",
       "      <th>1440611</th>\n",
       "      <td>11278</td>\n",
       "      <td>58395</td>\n",
       "      <td>10</td>\n",
       "      <td>0</td>\n",
       "      <td>-1.0</td>\n",
       "      <td>1.240015</td>\n",
       "    </tr>\n",
       "  </tbody>\n",
       "</table>\n",
       "<p>178476 rows × 6 columns</p>\n",
       "</div>"
      ],
      "text/plain": [
       "         PLATE    MJD  FIBERID  CLASS_PERSON  Z_VI      Z_QN\n",
       "0        11279  58449       85             0  -1.0  2.029856\n",
       "9        11279  58449      978             0  -1.0  1.565547\n",
       "14       11277  58450      705             0  -1.0  2.033733\n",
       "34       11277  58450      294             0  -1.0  0.856487\n",
       "40       11546  58488      936             0  -1.0  0.542567\n",
       "...        ...    ...      ...           ...   ...       ...\n",
       "1440577  11279  58449      947             0  -1.0  2.321162\n",
       "1440590  11546  58488       78             0  -1.0  1.280721\n",
       "1440596  11277  58450      700             0  -1.0  1.656114\n",
       "1440601  11277  58450      685             0  -1.0  2.418494\n",
       "1440611  11278  58395       10             0  -1.0  1.240015\n",
       "\n",
       "[178476 rows x 6 columns]"
      ]
     },
     "execution_count": 23,
     "metadata": {},
     "output_type": "execute_result"
    }
   ],
   "source": [
    "names10000"
   ]
  },
  {
   "cell_type": "code",
   "execution_count": null,
   "metadata": {},
   "outputs": [],
   "source": [
    "1+1"
   ]
  },
  {
   "cell_type": "code",
   "execution_count": null,
   "metadata": {},
   "outputs": [
    {
     "name": "stderr",
     "output_type": "stream",
     "text": [
      "124607it [00:16, 7585.88it/s]"
     ]
    }
   ],
   "source": [
    "i = 0\n",
    "j = 0\n",
    "plates = []\n",
    "mjds = []\n",
    "fiberIDs = []\n",
    "for index, row in tqdm(names8000.iterrows()):\n",
    "    plate = str(int(row['PLATE']))\n",
    "    mjd = str(int(row['MJD'])).zfill(5)\n",
    "    fiberID = str(int(row['FIBERID'])).zfill(4)\n",
    "    filename = 'spec-'+plate+'-'+mjd+'-'+fiberID+'.fits'\n",
    "    if not os.path.exists(data_path+'../../SDSS-data/DR16Q_Superset_v3/8000'+'/'+filename):\n",
    "        #print(filename,': file exsit, skip.')\n",
    "        plates.append(row['PLATE'])\n",
    "        mjds.append(row['MJD'])\n",
    "        fiberIDs.append(row['FIBERID'])\n",
    "        j = j + 1 \n",
    "print(j)"
   ]
  },
  {
   "cell_type": "code",
   "execution_count": 6,
   "metadata": {},
   "outputs": [],
   "source": [
    "remain = pd.DataFrame(list(zip(plates,mjds,fiberIDs)),columns=['PLATE','MJD',\"FIBERID\"])"
   ]
  },
  {
   "cell_type": "code",
   "execution_count": 20,
   "metadata": {},
   "outputs": [],
   "source": [
    "a = list(zip(plates,mjds,fiberIDs))"
   ]
  },
  {
   "cell_type": "code",
   "execution_count": 8,
   "metadata": {},
   "outputs": [
    {
     "data": {
      "text/plain": [
       "0        57328.0\n",
       "1        56564.0\n",
       "2        57654.0\n",
       "3        56604.0\n",
       "4        58073.0\n",
       "          ...   \n",
       "16700    58402.0\n",
       "16701    57328.0\n",
       "16702    57654.0\n",
       "16703    57339.0\n",
       "16704    57655.0\n",
       "Name: MJD, Length: 16705, dtype: float64"
      ]
     },
     "execution_count": 8,
     "metadata": {},
     "output_type": "execute_result"
    }
   ],
   "source": [
    "remain['MJD']"
   ]
  },
  {
   "cell_type": "code",
   "execution_count": null,
   "metadata": {},
   "outputs": [],
   "source": []
  }
 ],
 "metadata": {
  "kernelspec": {
   "display_name": "pytorch",
   "language": "python",
   "name": "pytorch"
  },
  "language_info": {
   "codemirror_mode": {
    "name": "ipython",
    "version": 3
   },
   "file_extension": ".py",
   "mimetype": "text/x-python",
   "name": "python",
   "nbconvert_exporter": "python",
   "pygments_lexer": "ipython3",
   "version": "3.6.2"
  },
  "toc": {
   "base_numbering": 1,
   "nav_menu": {},
   "number_sections": true,
   "sideBar": true,
   "skip_h1_title": false,
   "title_cell": "Table of Contents",
   "title_sidebar": "Contents",
   "toc_cell": false,
   "toc_position": {},
   "toc_section_display": true,
   "toc_window_display": false
  }
 },
 "nbformat": 4,
 "nbformat_minor": 2
}
